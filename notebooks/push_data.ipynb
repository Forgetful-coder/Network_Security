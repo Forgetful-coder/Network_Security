{
 "cells": [
  {
   "cell_type": "code",
   "execution_count": 1,
   "metadata": {},
   "outputs": [],
   "source": [
    "import pandas as pd\n",
    "import json\n",
    "data = pd.read_csv('/Users/aayushaggarwal/Desktop/mlops_tute/Network_security/NetworkData/phisingData.csv')\n"
   ]
  },
  {
   "cell_type": "code",
   "execution_count": 7,
   "metadata": {},
   "outputs": [
    {
     "data": {
      "text/plain": [
       "'{\"0\":{\"having_IP_Address\":-1,\"URL_Length\":1,\"Shortining_Service\":1,\"having_At_Symbol\":1,\"double_slash_redirecting\":-1,\"Prefix_Suffix\":-1,\"having_Sub_Domain\":-1,\"SSLfinal_State\":-1,\"Domain_registeration_length\":-1,\"Favicon\":1,\"port\":1,\"HTTPS_token\":-1,\"Request_URL\":1,\"URL_of_Anchor\":-1,\"Links_in_tags\":1,\"SFH\":-1,\"Submitting_to_email\":-1,\"Abnormal_URL\":-1,\"Redirect\":0,\"on_mouseover\":1,\"RightClick\":1,\"popUpWidnow\":1,\"Iframe\":1,\"age_of_domain\":-1,\"DNSRecord\":-1,\"web_traffic\":-1,\"Page_Rank\":-1,\"Google_Index\":1,\"Links_pointing_to_page\":1,\"Statistical_report\":-1,\"Result\":-1},\"1\":{\"having_IP_Address\":1,\"URL_Length\":1,\"Shortining_Service\":1,\"having_At_Symbol\":1,\"double_slash_redirecting\":1,\"Prefix_Suffix\":-1,\"having_Sub_Domain\":0,\"SSLfinal_State\":1,\"Domain_registeration_length\":-1,\"Favicon\":1,\"port\":1,\"HTTPS_token\":-1,\"Request_URL\":1,\"URL_of_Anchor\":0,\"Links_in_tags\":-1,\"SFH\":-1,\"Submitting_to_email\":1,\"Abnormal_URL\":1,\"Redirect\":0,\"on_mouseover\":1,\"RightClick\":1,\"popUpWidnow\":1,\"Iframe\":1,\"age_of_domain\":-1,\"DNSRecord\":-1,\"web_traffic\":0,\"Page_Rank\":-1,\"Google_Index\":1,\"Links_pointing_to_page\":1,\"Statistical_report\":1,\"Result\":-1},\"2\":{\"having_IP_Address\":1,\"URL_Length\":0,\"Shortining_Service\":1,\"having_At_Symbol\":1,\"double_slash_redirecting\":1,\"Prefix_Suffix\":-1,\"having_Sub_Domain\":-1,\"SSLfinal_State\":-1,\"Domain_registeration_length\":-1,\"Favicon\":1,\"port\":1,\"HTTPS_token\":-1,\"Request_URL\":1,\"URL_of_Anchor\":0,\"Links_in_tags\":-1,\"SFH\":-1,\"Submitting_to_email\":-1,\"Abnormal_URL\":-1,\"Redirect\":0,\"on_mouseover\":1,\"RightClick\":1,\"popUpWidnow\":1,\"Iframe\":1,\"age_of_domain\":1,\"DNSRecord\":-1,\"web_traffic\":1,\"Page_Rank\":-1,\"Google_Index\":1,\"Links_pointing_to_page\":0,\"Statistical_report\":-1,\"Result\":-1},\"3\":{\"having_IP_Address\":1,\"URL_Length\":0,\"Shortining_Service\":1,\"having_At_Symbol\":1,\"double_slash_redirecting\":1,\"Prefix_Suffix\":-1,\"having_Sub_Domain\":-1,\"SSLfinal_State\":-1,\"Domain_registeration_length\":1,\"Favicon\":1,\"port\":1,\"HTTPS_token\":-1,\"Request_URL\":-1,\"URL_of_Anchor\":0,\"Links_in_tags\":0,\"SFH\":-1,\"Submitting_to_email\":1,\"Abnormal_URL\":1,\"Redirect\":0,\"on_mouseover\":1,\"RightClick\":1,\"popUpWidnow\":1,\"Iframe\":1,\"age_of_domain\":-1,\"DNSRecord\":-1,\"web_traffic\":1,\"Page_Rank\":-1,\"Google_Index\":1,\"Links_pointing_to_page\":-1,\"Statistical_report\":1,\"Result\":-1},\"4\":{\"having_IP_Address\":1,\"URL_Length\":0,\"Shortining_Service\":-1,\"having_At_Symbol\":1,\"double_slash_redirecting\":1,\"Prefix_Suffix\":-1,\"having_Sub_Domain\":1,\"SSLfinal_State\":1,\"Domain_registeration_length\":-1,\"Favicon\":1,\"port\":1,\"HTTPS_token\":1,\"Request_URL\":1,\"URL_of_Anchor\":0,\"Links_in_tags\":0,\"SFH\":-1,\"Submitting_to_email\":1,\"Abnormal_URL\":1,\"Redirect\":0,\"on_mouseover\":-1,\"RightClick\":1,\"popUpWidnow\":-1,\"Iframe\":1,\"age_of_domain\":-1,\"DNSRecord\":-1,\"web_traffic\":0,\"Page_Rank\":-1,\"Google_Index\":1,\"Links_pointing_to_page\":1,\"Statistical_report\":1,\"Result\":1}}'"
      ]
     },
     "execution_count": 7,
     "metadata": {},
     "output_type": "execute_result"
    }
   ],
   "source": [
    "data.head(5).T.to_json()"
   ]
  },
  {
   "cell_type": "code",
   "execution_count": 10,
   "metadata": {},
   "outputs": [
    {
     "data": {
      "text/plain": [
       "[{'having_IP_Address': -1,\n",
       "  'URL_Length': 1,\n",
       "  'Shortining_Service': 1,\n",
       "  'having_At_Symbol': 1,\n",
       "  'double_slash_redirecting': -1,\n",
       "  'Prefix_Suffix': -1,\n",
       "  'having_Sub_Domain': -1,\n",
       "  'SSLfinal_State': -1,\n",
       "  'Domain_registeration_length': -1,\n",
       "  'Favicon': 1,\n",
       "  'port': 1,\n",
       "  'HTTPS_token': -1,\n",
       "  'Request_URL': 1,\n",
       "  'URL_of_Anchor': -1,\n",
       "  'Links_in_tags': 1,\n",
       "  'SFH': -1,\n",
       "  'Submitting_to_email': -1,\n",
       "  'Abnormal_URL': -1,\n",
       "  'Redirect': 0,\n",
       "  'on_mouseover': 1,\n",
       "  'RightClick': 1,\n",
       "  'popUpWidnow': 1,\n",
       "  'Iframe': 1,\n",
       "  'age_of_domain': -1,\n",
       "  'DNSRecord': -1,\n",
       "  'web_traffic': -1,\n",
       "  'Page_Rank': -1,\n",
       "  'Google_Index': 1,\n",
       "  'Links_pointing_to_page': 1,\n",
       "  'Statistical_report': -1,\n",
       "  'Result': -1},\n",
       " {'having_IP_Address': 1,\n",
       "  'URL_Length': 1,\n",
       "  'Shortining_Service': 1,\n",
       "  'having_At_Symbol': 1,\n",
       "  'double_slash_redirecting': 1,\n",
       "  'Prefix_Suffix': -1,\n",
       "  'having_Sub_Domain': 0,\n",
       "  'SSLfinal_State': 1,\n",
       "  'Domain_registeration_length': -1,\n",
       "  'Favicon': 1,\n",
       "  'port': 1,\n",
       "  'HTTPS_token': -1,\n",
       "  'Request_URL': 1,\n",
       "  'URL_of_Anchor': 0,\n",
       "  'Links_in_tags': -1,\n",
       "  'SFH': -1,\n",
       "  'Submitting_to_email': 1,\n",
       "  'Abnormal_URL': 1,\n",
       "  'Redirect': 0,\n",
       "  'on_mouseover': 1,\n",
       "  'RightClick': 1,\n",
       "  'popUpWidnow': 1,\n",
       "  'Iframe': 1,\n",
       "  'age_of_domain': -1,\n",
       "  'DNSRecord': -1,\n",
       "  'web_traffic': 0,\n",
       "  'Page_Rank': -1,\n",
       "  'Google_Index': 1,\n",
       "  'Links_pointing_to_page': 1,\n",
       "  'Statistical_report': 1,\n",
       "  'Result': -1},\n",
       " {'having_IP_Address': 1,\n",
       "  'URL_Length': 0,\n",
       "  'Shortining_Service': 1,\n",
       "  'having_At_Symbol': 1,\n",
       "  'double_slash_redirecting': 1,\n",
       "  'Prefix_Suffix': -1,\n",
       "  'having_Sub_Domain': -1,\n",
       "  'SSLfinal_State': -1,\n",
       "  'Domain_registeration_length': -1,\n",
       "  'Favicon': 1,\n",
       "  'port': 1,\n",
       "  'HTTPS_token': -1,\n",
       "  'Request_URL': 1,\n",
       "  'URL_of_Anchor': 0,\n",
       "  'Links_in_tags': -1,\n",
       "  'SFH': -1,\n",
       "  'Submitting_to_email': -1,\n",
       "  'Abnormal_URL': -1,\n",
       "  'Redirect': 0,\n",
       "  'on_mouseover': 1,\n",
       "  'RightClick': 1,\n",
       "  'popUpWidnow': 1,\n",
       "  'Iframe': 1,\n",
       "  'age_of_domain': 1,\n",
       "  'DNSRecord': -1,\n",
       "  'web_traffic': 1,\n",
       "  'Page_Rank': -1,\n",
       "  'Google_Index': 1,\n",
       "  'Links_pointing_to_page': 0,\n",
       "  'Statistical_report': -1,\n",
       "  'Result': -1},\n",
       " {'having_IP_Address': 1,\n",
       "  'URL_Length': 0,\n",
       "  'Shortining_Service': 1,\n",
       "  'having_At_Symbol': 1,\n",
       "  'double_slash_redirecting': 1,\n",
       "  'Prefix_Suffix': -1,\n",
       "  'having_Sub_Domain': -1,\n",
       "  'SSLfinal_State': -1,\n",
       "  'Domain_registeration_length': 1,\n",
       "  'Favicon': 1,\n",
       "  'port': 1,\n",
       "  'HTTPS_token': -1,\n",
       "  'Request_URL': -1,\n",
       "  'URL_of_Anchor': 0,\n",
       "  'Links_in_tags': 0,\n",
       "  'SFH': -1,\n",
       "  'Submitting_to_email': 1,\n",
       "  'Abnormal_URL': 1,\n",
       "  'Redirect': 0,\n",
       "  'on_mouseover': 1,\n",
       "  'RightClick': 1,\n",
       "  'popUpWidnow': 1,\n",
       "  'Iframe': 1,\n",
       "  'age_of_domain': -1,\n",
       "  'DNSRecord': -1,\n",
       "  'web_traffic': 1,\n",
       "  'Page_Rank': -1,\n",
       "  'Google_Index': 1,\n",
       "  'Links_pointing_to_page': -1,\n",
       "  'Statistical_report': 1,\n",
       "  'Result': -1},\n",
       " {'having_IP_Address': 1,\n",
       "  'URL_Length': 0,\n",
       "  'Shortining_Service': -1,\n",
       "  'having_At_Symbol': 1,\n",
       "  'double_slash_redirecting': 1,\n",
       "  'Prefix_Suffix': -1,\n",
       "  'having_Sub_Domain': 1,\n",
       "  'SSLfinal_State': 1,\n",
       "  'Domain_registeration_length': -1,\n",
       "  'Favicon': 1,\n",
       "  'port': 1,\n",
       "  'HTTPS_token': 1,\n",
       "  'Request_URL': 1,\n",
       "  'URL_of_Anchor': 0,\n",
       "  'Links_in_tags': 0,\n",
       "  'SFH': -1,\n",
       "  'Submitting_to_email': 1,\n",
       "  'Abnormal_URL': 1,\n",
       "  'Redirect': 0,\n",
       "  'on_mouseover': -1,\n",
       "  'RightClick': 1,\n",
       "  'popUpWidnow': -1,\n",
       "  'Iframe': 1,\n",
       "  'age_of_domain': -1,\n",
       "  'DNSRecord': -1,\n",
       "  'web_traffic': 0,\n",
       "  'Page_Rank': -1,\n",
       "  'Google_Index': 1,\n",
       "  'Links_pointing_to_page': 1,\n",
       "  'Statistical_report': 1,\n",
       "  'Result': 1}]"
      ]
     },
     "execution_count": 10,
     "metadata": {},
     "output_type": "execute_result"
    }
   ],
   "source": [
    "list(json.loads(data.head(5).T.to_json()).values())"
   ]
  },
  {
   "cell_type": "code",
   "execution_count": 2,
   "metadata": {},
   "outputs": [
    {
     "name": "stdout",
     "output_type": "stream",
     "text": [
      "<class 'str'>\n"
     ]
    }
   ],
   "source": [
    "from datetime import datetime\n",
    "\n",
    "timestamp  = datetime.now()\n",
    "\n",
    "print(type(timestamp.strftime(\"%m_%Y_%d_%H_%M_%S\")))"
   ]
  },
  {
   "cell_type": "code",
   "execution_count": 3,
   "metadata": {},
   "outputs": [
    {
     "data": {
      "text/plain": [
       "'/Users/aayushaggarwal/Desktop/mlops_tute/Network_security/notebooks/dummy_folder/12_2024_29_20_44_27'"
      ]
     },
     "execution_count": 3,
     "metadata": {},
     "output_type": "execute_result"
    }
   ],
   "source": [
    "import os\n",
    "path = '/Users/aayushaggarwal/Desktop/mlops_tute/Network_security/notebooks/dummy_folder/'\n",
    "tp = timestamp.strftime(\"%m_%Y_%d_%H_%M_%S\")\n",
    "os.path.join(path,tp)"
   ]
  },
  {
   "cell_type": "code",
   "execution_count": 1,
   "metadata": {},
   "outputs": [
    {
     "name": "stdout",
     "output_type": "stream",
     "text": [
      "/Users/aayushaggarwal/Desktop/mlops_tute/Network_security/notebooks/dummy_folder\n"
     ]
    }
   ],
   "source": [
    "import os\n",
    "file_path = '/Users/aayushaggarwal/Desktop/mlops_tute/Network_security/notebooks/dummy_folder/dummy.txt'\n",
    "dir_path = os.path.dirname(file_path)\n",
    "print(dir_path)\n"
   ]
  },
  {
   "cell_type": "code",
   "execution_count": 3,
   "metadata": {},
   "outputs": [
    {
     "data": {
      "text/plain": [
       "having_IP_Address              int64\n",
       "URL_Length                     int64\n",
       "Shortining_Service             int64\n",
       "having_At_Symbol               int64\n",
       "double_slash_redirecting       int64\n",
       "Prefix_Suffix                  int64\n",
       "having_Sub_Domain              int64\n",
       "SSLfinal_State                 int64\n",
       "Domain_registeration_length    int64\n",
       "Favicon                        int64\n",
       "port                           int64\n",
       "HTTPS_token                    int64\n",
       "Request_URL                    int64\n",
       "URL_of_Anchor                  int64\n",
       "Links_in_tags                  int64\n",
       "SFH                            int64\n",
       "Submitting_to_email            int64\n",
       "Abnormal_URL                   int64\n",
       "Redirect                       int64\n",
       "on_mouseover                   int64\n",
       "RightClick                     int64\n",
       "popUpWidnow                    int64\n",
       "Iframe                         int64\n",
       "age_of_domain                  int64\n",
       "DNSRecord                      int64\n",
       "web_traffic                    int64\n",
       "Page_Rank                      int64\n",
       "Google_Index                   int64\n",
       "Links_pointing_to_page         int64\n",
       "Statistical_report             int64\n",
       "Result                         int64\n",
       "dtype: object"
      ]
     },
     "execution_count": 3,
     "metadata": {},
     "output_type": "execute_result"
    }
   ],
   "source": [
    "data.dtypes"
   ]
  },
  {
   "cell_type": "code",
   "execution_count": 5,
   "metadata": {},
   "outputs": [
    {
     "name": "stdout",
     "output_type": "stream",
     "text": [
      "{'columns': [{'having_IP_Address': 'int64'}, {'URL_Length': 'int64'}, {'Shortining_Service': 'int64'}, {'having_At_Symbol': 'int64'}, {'double_slash_redirecting': 'int64'}, {'Prefix_Suffix': 'int64'}, {'having_Sub_Domain': 'int64'}, {'SSLfinal_State': 'int64'}, {'Domain_registeration_length': 'int64'}, {'Favicon': 'int64'}, {'port': 'int64'}, {'HTTPS_token': 'int64'}, {'Request_URL': 'int64'}, {'URL_of_Anchor': 'int64'}, {'Links_in_tags': 'int64'}, {'SFH': 'int64'}, {'Submitting_to_email': 'int64'}, {'Abnormal_URL': 'int64'}, {'Redirect': 'int64'}, {'on_mouseover': 'int64'}, {'RightClick': 'int64'}, {'popUpWidnow': 'int64'}, {'Iframe': 'int64'}, {'age_of_domain': 'int64'}, {'DNSRecord': 'int64'}, {'web_traffic': 'int64'}, {'Page_Rank': 'int64'}, {'Google_Index': 'int64'}, {'Links_pointing_to_page': 'int64'}, {'Statistical_report': 'int64'}, {'Result': 'int64'}]}\n"
     ]
    }
   ],
   "source": [
    "schema = {'columns':[]}\n",
    "\n",
    "for col in data.columns:\n",
    "    col_dtype = str(data[col].dtype)\n",
    "    schema['columns'].append({\n",
    "        col:col_dtype})\n",
    "print(schema)"
   ]
  },
  {
   "cell_type": "code",
   "execution_count": 9,
   "metadata": {},
   "outputs": [],
   "source": [
    "import yaml\n",
    "output_path = '/Users/aayushaggarwal/Desktop/mlops_tute/Network_security/notebooks/schema.yaml'\n",
    "\n",
    "with open(output_path,'w') as yaml_file:\n",
    "    yaml.dump(schema,yaml_file,default_flow_style=False)\n"
   ]
  },
  {
   "cell_type": "code",
   "execution_count": 4,
   "metadata": {},
   "outputs": [
    {
     "name": "stdout",
     "output_type": "stream",
     "text": [
      "[ 2025-01-06 21:08:54,533 ] 11 root - INFO - Reading yaml file\n",
      "[ 2025-01-06 21:08:54,539 ] 14 root - INFO - Content fetched successfully\n"
     ]
    }
   ],
   "source": [
    "from NetworkSecurity.constants.training_pipeline import SCHEMA_FILE_PATH\n",
    "from NetworkSecurity.utils.main_utils.utils import read_yaml_file,write_yaml_file\n",
    "\n",
    "schema_config = read_yaml_file(SCHEMA_FILE_PATH)\n",
    "\n",
    "number_of_cols = len(schema_config['columns'])\n"
   ]
  },
  {
   "cell_type": "code",
   "execution_count": 5,
   "metadata": {},
   "outputs": [
    {
     "data": {
      "text/plain": [
       "{'columns': [{'having_IP_Address': 'int64'},\n",
       "  {'URL_Length': 'int64'},\n",
       "  {'Shortining_Service': 'int64'},\n",
       "  {'having_At_Symbol': 'int64'},\n",
       "  {'double_slash_redirecting': 'int64'},\n",
       "  {'Prefix_Suffix': 'int64'},\n",
       "  {'having_Sub_Domain': 'int64'},\n",
       "  {'SSLfinal_State': 'int64'},\n",
       "  {'Domain_registeration_length': 'int64'},\n",
       "  {'Favicon': 'int64'},\n",
       "  {'port': 'int64'},\n",
       "  {'HTTPS_token': 'int64'},\n",
       "  {'Request_URL': 'int64'},\n",
       "  {'URL_of_Anchor': 'int64'},\n",
       "  {'Links_in_tags': 'int64'},\n",
       "  {'SFH': 'int64'},\n",
       "  {'Submitting_to_email': 'int64'},\n",
       "  {'Abnormal_URL': 'int64'},\n",
       "  {'Redirect': 'int64'},\n",
       "  {'on_mouseover': 'int64'},\n",
       "  {'RightClick': 'int64'},\n",
       "  {'popUpWidnow': 'int64'},\n",
       "  {'Iframe': 'int64'},\n",
       "  {'age_of_domain': 'int64'},\n",
       "  {'DNSRecord': 'int64'},\n",
       "  {'web_traffic': 'int64'},\n",
       "  {'Page_Rank': 'int64'},\n",
       "  {'Google_Index': 'int64'},\n",
       "  {'Links_pointing_to_page': 'int64'},\n",
       "  {'Statistical_report': 'int64'},\n",
       "  {'Result': 'int64'}]}"
      ]
     },
     "execution_count": 5,
     "metadata": {},
     "output_type": "execute_result"
    }
   ],
   "source": [
    "schema_config"
   ]
  },
  {
   "cell_type": "code",
   "execution_count": 6,
   "metadata": {},
   "outputs": [
    {
     "name": "stdout",
     "output_type": "stream",
     "text": [
      "31\n"
     ]
    }
   ],
   "source": [
    "print(number_of_cols)"
   ]
  },
  {
   "cell_type": "code",
   "execution_count": 5,
   "metadata": {},
   "outputs": [
    {
     "name": "stdout",
     "output_type": "stream",
     "text": [
      "Current Working Directory: /Users/aayushaggarwal/Desktop/mlops_tute/Network_security/notebooks\n"
     ]
    }
   ],
   "source": [
    "import os\n",
    "print(f\"Current Working Directory: {os.getcwd()}\")"
   ]
  },
  {
   "cell_type": "code",
   "execution_count": 11,
   "metadata": {},
   "outputs": [
    {
     "name": "stdout",
     "output_type": "stream",
     "text": [
      "SCHEMA_FILE_PATH: /Users/aayushaggarwal/Desktop/mlops_tute/Network_security/data_schema/schema.yaml\n"
     ]
    }
   ],
   "source": [
    "print(f\"SCHEMA_FILE_PATH: {SCHEMA_FILE_PATH}\")\n"
   ]
  },
  {
   "cell_type": "code",
   "execution_count": 16,
   "metadata": {},
   "outputs": [
    {
     "name": "stdout",
     "output_type": "stream",
     "text": [
      "Parsed Content: {'columns': [{'having_IP_Address': 'int64'}, {'URL_Length': 'int64'}, {'Shortining_Service': 'int64'}, {'having_At_Symbol': 'int64'}, {'double_slash_redirecting': 'int64'}, {'Prefix_Suffix': 'int64'}, {'having_Sub_Domain': 'int64'}, {'SSLfinal_State': 'int64'}, {'Domain_registeration_length': 'int64'}, {'Favicon': 'int64'}, {'port': 'int64'}, {'HTTPS_token': 'int64'}, {'Request_URL': 'int64'}, {'URL_of_Anchor': 'int64'}, {'Links_in_tags': 'int64'}, {'SFH': 'int64'}, {'Submitting_to_email': 'int64'}, {'Abnormal_URL': 'int64'}, {'Redirect': 'int64'}, {'on_mouseover': 'int64'}, {'RightClick': 'int64'}, {'popUpWidnow': 'int64'}, {'Iframe': 'int64'}, {'age_of_domain': 'int64'}, {'DNSRecord': 'int64'}, {'web_traffic': 'int64'}, {'Page_Rank': 'int64'}, {'Google_Index': 'int64'}, {'Links_pointing_to_page': 'int64'}, {'Statistical_report': 'int64'}, {'Result': 'int64'}]}\n",
      "31\n"
     ]
    }
   ],
   "source": [
    "import yaml\n",
    "\n",
    "file_path = \"/Users/aayushaggarwal/Desktop/mlops_tute/Network_security/data_schema/schema.yaml\"\n",
    "with open(file_path, 'r') as file:\n",
    "    content = yaml.safe_load(file)\n",
    "print(\"Parsed Content:\", content)\n",
    "print(len(content['columns']))\n"
   ]
  },
  {
   "cell_type": "code",
   "execution_count": 26,
   "metadata": {},
   "outputs": [
    {
     "name": "stdout",
     "output_type": "stream",
     "text": [
      "[ 2025-01-06 21:07:13,874 ] 11 root - INFO - Reading yaml file\n",
      "[ 2025-01-06 21:07:13,876 ] 14 root - INFO - Content fetched successfully\n",
      "Parsed Schema Config: /Users/aayushaggarwal/Desktop/mlops_tute/Network_security/data_schema/schema.yaml\n",
      "Type of schema_config: <class 'str'>\n"
     ]
    }
   ],
   "source": [
    "schema_config = read_yaml_file(SCHEMA_FILE_PATH)\n",
    "print(\"Parsed Schema Config:\", schema_config)\n",
    "\n",
    "# Check the type of schema_config\n",
    "print(f\"Type of schema_config: {type(schema_config)}\")"
   ]
  },
  {
   "cell_type": "code",
   "execution_count": 21,
   "metadata": {},
   "outputs": [
    {
     "data": {
      "text/plain": [
       "31"
      ]
     },
     "execution_count": 21,
     "metadata": {},
     "output_type": "execute_result"
    }
   ],
   "source": []
  },
  {
   "cell_type": "code",
   "execution_count": 25,
   "metadata": {},
   "outputs": [
    {
     "data": {
      "text/plain": [
       "<module 'NetworkSecurity.utils.main_utils.utils' from '/Users/aayushaggarwal/Desktop/mlops_tute/Network_security/NetworkSecurity/utils/main_utils/utils.py'>"
      ]
     },
     "execution_count": 25,
     "metadata": {},
     "output_type": "execute_result"
    }
   ],
   "source": [
    "import importlib\n",
    "from NetworkSecurity.utils.main_utils.utils import read_yaml_file\n",
    "import NetworkSecurity\n",
    "\n",
    "# Reload the module to ensure you get the latest version\n",
    "importlib.reload(NetworkSecurity.utils.main_utils.utils)"
   ]
  },
  {
   "cell_type": "code",
   "execution_count": 8,
   "metadata": {},
   "outputs": [
    {
     "name": "stdout",
     "output_type": "stream",
     "text": [
      "NetworkSecurity\n",
      "Artifacts\n"
     ]
    },
    {
     "data": {
      "text/plain": [
       "<module 'NetworkSecurity.entity.config_entity' from '/Users/aayushaggarwal/Desktop/mlops_tute/Network_security/NetworkSecurity/entity/config_entity.py'>"
      ]
     },
     "execution_count": 8,
     "metadata": {},
     "output_type": "execute_result"
    }
   ],
   "source": [
    "import importlib\n",
    "from NetworkSecurity.entity.config_entity import DataValidationConfig\n",
    "import NetworkSecurity\n",
    "\n",
    "# Reload the module to ensure you get the latest version\n",
    "importlib.reload(NetworkSecurity.entity.config_entity)"
   ]
  },
  {
   "cell_type": "code",
   "execution_count": null,
   "metadata": {},
   "outputs": [],
   "source": []
  }
 ],
 "metadata": {
  "kernelspec": {
   "display_name": "Python 3",
   "language": "python",
   "name": "python3"
  },
  "language_info": {
   "codemirror_mode": {
    "name": "ipython",
    "version": 3
   },
   "file_extension": ".py",
   "mimetype": "text/x-python",
   "name": "python",
   "nbconvert_exporter": "python",
   "pygments_lexer": "ipython3",
   "version": "3.10.16"
  }
 },
 "nbformat": 4,
 "nbformat_minor": 2
}
